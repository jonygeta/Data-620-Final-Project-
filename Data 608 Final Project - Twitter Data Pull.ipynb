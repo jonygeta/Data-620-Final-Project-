{
 "cells": [
  {
   "cell_type": "markdown",
   "metadata": {},
   "source": [
    "### Data 620 Final Project\n",
    "\n",
    "**Team No. 6**\n",
    "\n",
    "- Yohannes Deboch\n",
    "- Sherranette Tinapunan\n",
    "\n",
    "---\n",
    "\n",
    "### Twitter Data Pull\n",
    "\n",
    "The new Statue of Liberty Museum just opened on May 16, 2019.\n",
    "\n",
    "The purpose of this file is to retrieve data from Twitter since 5/1/2019 with the hashtags #StatueOfLiberty OR #StatueOfLibertyMuseum. The data retrieval specified 1000 tweets; however, Twitter only returned 558 rows that starts on 5/12/2019.\n",
    "\n",
    "The returned tweets were saved in CSV format, which will be used as input for further analysis."
   ]
  },
  {
   "cell_type": "code",
   "execution_count": 91,
   "metadata": {},
   "outputs": [],
   "source": [
    "import tweepy as tw\n",
    "import pandas as pd"
   ]
  },
  {
   "cell_type": "code",
   "execution_count": 92,
   "metadata": {},
   "outputs": [],
   "source": [
    "consumer_key= 'z260t2EEc7KzCFPwHD37cjddJ'\n",
    "consumer_secret= 'POSKgmmVSSyeI3LwT6RircuGD8cGzB7z32JB8sTDoz0J4JWOQn'\n",
    "access_token= '1125189491726090240-31y09WMX8MzDcDlnYvemzcnABhzA4G'\n",
    "access_token_secret= 's7XrsbPLpiz17ehDCxP5B8hRMsPlOtXyfD1fUTWG0HxZY'"
   ]
  },
  {
   "cell_type": "code",
   "execution_count": 93,
   "metadata": {},
   "outputs": [],
   "source": [
    "auth = tw.OAuthHandler(consumer_key, consumer_secret)\n",
    "auth.set_access_token(access_token, access_token_secret)\n",
    "api = tw.API(auth, wait_on_rate_limit=True)"
   ]
  },
  {
   "cell_type": "code",
   "execution_count": 94,
   "metadata": {},
   "outputs": [
    {
     "data": {
      "text/plain": [
       "'#StatueofLiberty OR #StatueOfLibertyMuseum -filter:retweets'"
      ]
     },
     "execution_count": 94,
     "metadata": {},
     "output_type": "execute_result"
    }
   ],
   "source": [
    "search_words = \"#StatueofLiberty OR #StatueOfLibertyMuseum\" + \" -filter:retweets\"\n",
    "date_since = \"2019-05-01\"\n",
    "search_words"
   ]
  },
  {
   "cell_type": "code",
   "execution_count": 108,
   "metadata": {},
   "outputs": [],
   "source": [
    "#Returns tweepy.cursor.ItemIterator object\n",
    "tweets = tw.Cursor(api.search,\n",
    "              q=search_words,\n",
    "              lang=\"en\",\n",
    "              since=date_since).items(1000)"
   ]
  },
  {
   "cell_type": "code",
   "execution_count": 110,
   "metadata": {
    "scrolled": true
   },
   "outputs": [
    {
     "data": {
      "text/html": [
       "<div>\n",
       "<style scoped>\n",
       "    .dataframe tbody tr th:only-of-type {\n",
       "        vertical-align: middle;\n",
       "    }\n",
       "\n",
       "    .dataframe tbody tr th {\n",
       "        vertical-align: top;\n",
       "    }\n",
       "\n",
       "    .dataframe thead th {\n",
       "        text-align: right;\n",
       "    }\n",
       "</style>\n",
       "<table border=\"1\" class=\"dataframe\">\n",
       "  <thead>\n",
       "    <tr style=\"text-align: right;\">\n",
       "      <th></th>\n",
       "      <th>tweet_id</th>\n",
       "      <th>created_at</th>\n",
       "      <th>user</th>\n",
       "      <th>location</th>\n",
       "      <th>text</th>\n",
       "    </tr>\n",
       "  </thead>\n",
       "  <tbody>\n",
       "    <tr>\n",
       "      <th>0</th>\n",
       "      <td>'1131047852883546118</td>\n",
       "      <td>2019-05-22 04:03:16</td>\n",
       "      <td>NYCRocksYou</td>\n",
       "      <td>New York</td>\n",
       "      <td>We will be premiering our very first NYC based...</td>\n",
       "    </tr>\n",
       "    <tr>\n",
       "      <th>1</th>\n",
       "      <td>'1131037675279069185</td>\n",
       "      <td>2019-05-22 03:22:50</td>\n",
       "      <td>MorinToon</td>\n",
       "      <td>Maine, USA</td>\n",
       "      <td>Give us your white, your rich, entitled and ed...</td>\n",
       "    </tr>\n",
       "    <tr>\n",
       "      <th>2</th>\n",
       "      <td>'1131022433337659392</td>\n",
       "      <td>2019-05-22 02:22:16</td>\n",
       "      <td>DWUConservation</td>\n",
       "      <td>Government District, Dallas</td>\n",
       "      <td>The #StatueofLiberty app is pretty much everyt...</td>\n",
       "    </tr>\n",
       "    <tr>\n",
       "      <th>3</th>\n",
       "      <td>'1131007852217286662</td>\n",
       "      <td>2019-05-22 01:24:19</td>\n",
       "      <td>marvslawrence</td>\n",
       "      <td>Makati, Philippines</td>\n",
       "      <td>Meet up with the lady. 🗽| Liberty Island, New ...</td>\n",
       "    </tr>\n",
       "    <tr>\n",
       "      <th>4</th>\n",
       "      <td>'1131003078742876160</td>\n",
       "      <td>2019-05-22 01:05:21</td>\n",
       "      <td>johanson_sven</td>\n",
       "      <td>Cambridge, MA</td>\n",
       "      <td>Just your typical Tuesday, yachting on the Hud...</td>\n",
       "    </tr>\n",
       "  </tbody>\n",
       "</table>\n",
       "</div>"
      ],
      "text/plain": [
       "               tweet_id          created_at             user  \\\n",
       "0  '1131047852883546118 2019-05-22 04:03:16      NYCRocksYou   \n",
       "1  '1131037675279069185 2019-05-22 03:22:50        MorinToon   \n",
       "2  '1131022433337659392 2019-05-22 02:22:16  DWUConservation   \n",
       "3  '1131007852217286662 2019-05-22 01:24:19    marvslawrence   \n",
       "4  '1131003078742876160 2019-05-22 01:05:21    johanson_sven   \n",
       "\n",
       "                      location  \\\n",
       "0                     New York   \n",
       "1                   Maine, USA   \n",
       "2  Government District, Dallas   \n",
       "3          Makati, Philippines   \n",
       "4                Cambridge, MA   \n",
       "\n",
       "                                                text  \n",
       "0  We will be premiering our very first NYC based...  \n",
       "1  Give us your white, your rich, entitled and ed...  \n",
       "2  The #StatueofLiberty app is pretty much everyt...  \n",
       "3  Meet up with the lady. 🗽| Liberty Island, New ...  \n",
       "4  Just your typical Tuesday, yachting on the Hud...  "
      ]
     },
     "execution_count": 110,
     "metadata": {},
     "output_type": "execute_result"
    }
   ],
   "source": [
    "tweet_data = [[ \"'\" + str(tweet.id), tweet.created_at, tweet.user.screen_name, tweet.user.location, tweet.text] for tweet in tweets]\n",
    "\n",
    "tweet_df = pd.DataFrame(data=tweet_data, \n",
    "                    columns=['tweet_id', 'created_at', 'user', \"location\", \"text\"])\n",
    "tweet_df.head()"
   ]
  },
  {
   "cell_type": "code",
   "execution_count": 112,
   "metadata": {},
   "outputs": [
    {
     "data": {
      "text/plain": [
       "(558, 5)"
      ]
     },
     "execution_count": 112,
     "metadata": {},
     "output_type": "execute_result"
    }
   ],
   "source": [
    "tweet_df.shape"
   ]
  },
  {
   "cell_type": "code",
   "execution_count": 111,
   "metadata": {},
   "outputs": [],
   "source": [
    "tweet_df.to_csv('tweets_ver4.csv')"
   ]
  }
 ],
 "metadata": {
  "kernelspec": {
   "display_name": "Python 3",
   "language": "python",
   "name": "python3"
  },
  "language_info": {
   "codemirror_mode": {
    "name": "ipython",
    "version": 3
   },
   "file_extension": ".py",
   "mimetype": "text/x-python",
   "name": "python",
   "nbconvert_exporter": "python",
   "pygments_lexer": "ipython3",
   "version": "3.6.5"
  }
 },
 "nbformat": 4,
 "nbformat_minor": 2
}
