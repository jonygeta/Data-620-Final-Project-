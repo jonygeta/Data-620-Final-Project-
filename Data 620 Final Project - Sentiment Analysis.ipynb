{
 "cells": [
  {
   "cell_type": "markdown",
   "metadata": {},
   "source": [
    "### Data 620 Final Project\n",
    "\n",
    "**Team No. 6**\n",
    "\n",
    "- Yohannes Deboch\n",
    "- Sherranette Tinapunan\n",
    "\n",
    "---\n",
    "\n",
    "**Video Presentation**\n",
    "\n",
    "[link to be entered]"
   ]
  },
  {
   "cell_type": "markdown",
   "metadata": {},
   "source": [
    "### Twitter Sentiment Analysis about the Statue of Liberty and the New Museum\n",
    "\n",
    "The new Statue of Liberty Museum just opened on May 16, 2019.\n",
    "\n",
    "In this project, sentiment analysis of recent tweets with hashtags **#StatueOfLiberty** OR **#StatueOfLibertyMuseum** was done in light of the recent opening of the new museum at Liberty island. An analysis of tweet user location was also done. "
   ]
  },
  {
   "cell_type": "markdown",
   "metadata": {},
   "source": [
    "![photo](SOLM_photo.jpg)"
   ]
  },
  {
   "cell_type": "markdown",
   "metadata": {},
   "source": [
    "### Twitter Data Pull\n",
    "\n",
    "Process file for Twitter data pull: <br> \n",
    "https://github.com/Shetura36/Data-620/blob/master/Final%20Project/Data%20608%20Final%20Project%20-%20Twitter%20Data%20Pull.ipynb\n",
    "\n",
    "The new Statue of Liberty Museum just opened on **May 16, 2019**.\n",
    "\n",
    "The Twitter data pull notebook linked above has the code to retrieve data from Twitter since 5/1/2019 with the hashtags #StatueOfLiberty OR #StatueOfLibertyMuseum. The data retrieval specified 1000 tweets; however, Twitter only returned 558 rows.\n",
    "\n",
    "The returned tweets were saved on a CSV file named \"tweets.csv\". This is the input file used for sentiment analysis. \n",
    "\n",
    "\n",
    "\n",
    "---\n",
    "\n",
    "### Sentiment Analysis\n",
    "\n",
    "This project is going to perform sentiment analysis on approximately 500 tweets that have the hashtag #StatueOfLiberty or #StatueOfLibertyMuseum. The sentiment analysis is going to classify the text as positive, neutral, or negative. \n",
    "\n",
    "For each sentiment class, we're going to analyze associated hashtags and location. \n",
    "\n",
    "**TextBlob** is the package used to do the sentiment analysis: https://textblob.readthedocs.io/en/dev/\n",
    "\n",
    "---"
   ]
  },
  {
   "cell_type": "markdown",
   "metadata": {},
   "source": [
    "### Load Libraries"
   ]
  },
  {
   "cell_type": "code",
   "execution_count": 54,
   "metadata": {},
   "outputs": [],
   "source": [
    "import pandas as pd\n",
    "from textblob import TextBlob\n",
    "import re \n",
    "import matplotlib.pyplot as plt; plt.rcdefaults()\n",
    "import numpy as np\n",
    "import matplotlib.pyplot as plt"
   ]
  },
  {
   "cell_type": "markdown",
   "metadata": {},
   "source": [
    "\n",
    "### Load Tweets \n",
    "\n",
    "These are the links to the saved Twitter data pull in CSV format.\n",
    "\n",
    "The **adjusted CSV file** contains standardize location. The raw location values in the data pull were manually typed in by Twitter users, and they can enter whatever they want as their location. Most provided valid locations that either refer to a state in the United States or refer to a country that is not United States. If more than one location is present, the first location was selected. Because the data set is small (about 560 rows), the standardization was done by manually going through each location value in Excel and converting it to a standard format. When possible, US states were captured. More specific areas in other countries were not standardized. \n",
    "\n",
    "Raw output from Twitter data pull:<br> \n",
    "https://github.com/Shetura36/Data-620/blob/master/Final%20Project/tweets_ver4.csv\n",
    "\n",
    "Adjusted CSV file (cleaned location): <br> \n",
    "https://github.com/Shetura36/Data-620/blob/master/Final%20Project/tweets_csv_utf8.csv\n"
   ]
  },
  {
   "cell_type": "code",
   "execution_count": 408,
   "metadata": {},
   "outputs": [],
   "source": [
    "tweets_df = pd.read_csv(\"tweets_csv_utf8.csv\")"
   ]
  },
  {
   "cell_type": "code",
   "execution_count": 409,
   "metadata": {},
   "outputs": [
    {
     "data": {
      "text/plain": [
       "(558, 8)"
      ]
     },
     "execution_count": 409,
     "metadata": {},
     "output_type": "execute_result"
    }
   ],
   "source": [
    "tweets_df.shape"
   ]
  },
  {
   "cell_type": "code",
   "execution_count": 410,
   "metadata": {},
   "outputs": [
    {
     "data": {
      "text/html": [
       "<div>\n",
       "<style scoped>\n",
       "    .dataframe tbody tr th:only-of-type {\n",
       "        vertical-align: middle;\n",
       "    }\n",
       "\n",
       "    .dataframe tbody tr th {\n",
       "        vertical-align: top;\n",
       "    }\n",
       "\n",
       "    .dataframe thead th {\n",
       "        text-align: right;\n",
       "    }\n",
       "</style>\n",
       "<table border=\"1\" class=\"dataframe\">\n",
       "  <thead>\n",
       "    <tr style=\"text-align: right;\">\n",
       "      <th></th>\n",
       "      <th>row_id</th>\n",
       "      <th>tweet_id</th>\n",
       "      <th>created_at</th>\n",
       "      <th>user</th>\n",
       "      <th>location</th>\n",
       "      <th>location_clean</th>\n",
       "      <th>location_type</th>\n",
       "      <th>text</th>\n",
       "    </tr>\n",
       "  </thead>\n",
       "  <tbody>\n",
       "    <tr>\n",
       "      <th>0</th>\n",
       "      <td>0</td>\n",
       "      <td>'1131047852883546118</td>\n",
       "      <td>5/22/2019 4:03</td>\n",
       "      <td>NYCRocksYou</td>\n",
       "      <td>New York</td>\n",
       "      <td>New York</td>\n",
       "      <td>United States</td>\n",
       "      <td>We will be premiering our very first NYC based vlog at Noon! We visit the brand new Statue of Liberty Museum ðŸ—½on itâ€¦ https://t.co/3sGd5CTW2Y</td>\n",
       "    </tr>\n",
       "    <tr>\n",
       "      <th>1</th>\n",
       "      <td>1</td>\n",
       "      <td>'1131037675279069185</td>\n",
       "      <td>5/22/2019 3:22</td>\n",
       "      <td>MorinToon</td>\n",
       "      <td>Maine, USA</td>\n",
       "      <td>Maine</td>\n",
       "      <td>United States</td>\n",
       "      <td>Give us your white, your rich, entitled and educated. To hell with everybody else #morintoon #TrumpImmigrationâ€¦ https://t.co/qsPp2etPj1</td>\n",
       "    </tr>\n",
       "    <tr>\n",
       "      <th>2</th>\n",
       "      <td>2</td>\n",
       "      <td>'1131022433337659392</td>\n",
       "      <td>5/22/2019 2:22</td>\n",
       "      <td>DWUConservation</td>\n",
       "      <td>Government District, Dallas</td>\n",
       "      <td>Texas</td>\n",
       "      <td>United States</td>\n",
       "      <td>The #StatueofLiberty app is pretty much everything. Such a cool way to learn about #LadyLiberty #NYC https://t.co/PvYPcguvMg</td>\n",
       "    </tr>\n",
       "    <tr>\n",
       "      <th>3</th>\n",
       "      <td>3</td>\n",
       "      <td>'1131007852217286662</td>\n",
       "      <td>5/22/2019 1:24</td>\n",
       "      <td>marvslawrence</td>\n",
       "      <td>Makati, Philippines</td>\n",
       "      <td>Philippines</td>\n",
       "      <td>Other</td>\n",
       "      <td>Meet up with the lady. ðŸ—½| Liberty Island, New York City\\r\\n.\\r\\n.\\r\\n.\\r\\n#vsco #vscocam #vscocollective #nyc #wheninnycâ€¦ https://t.co/OXwNQR836z</td>\n",
       "    </tr>\n",
       "    <tr>\n",
       "      <th>4</th>\n",
       "      <td>4</td>\n",
       "      <td>'1131003078742876160</td>\n",
       "      <td>5/22/2019 1:05</td>\n",
       "      <td>johanson_sven</td>\n",
       "      <td>Cambridge, MA</td>\n",
       "      <td>Massachusetts</td>\n",
       "      <td>United States</td>\n",
       "      <td>Just your typical Tuesday, yachting on the Hudson. #newyork #statueofliberty #yacht #sailing #baller #bostonâ€¦ https://t.co/03RYqe4MVy</td>\n",
       "    </tr>\n",
       "    <tr>\n",
       "      <th>5</th>\n",
       "      <td>5</td>\n",
       "      <td>'1130995497907433472</td>\n",
       "      <td>5/22/2019 0:35</td>\n",
       "      <td>polsonforjax</td>\n",
       "      <td>Jacksonville, FL</td>\n",
       "      <td>Florida</td>\n",
       "      <td>United States</td>\n",
       "      <td>Can you see her!? #StatueOfLiberty #Freedom #BringYourHuddledMasses #WelcomeToNewYork https://t.co/pSppyzHHQC</td>\n",
       "    </tr>\n",
       "    <tr>\n",
       "      <th>6</th>\n",
       "      <td>6</td>\n",
       "      <td>'1130982190072909824</td>\n",
       "      <td>5/21/2019 23:42</td>\n",
       "      <td>MorinToon</td>\n",
       "      <td>Maine, USA</td>\n",
       "      <td>Maine</td>\n",
       "      <td>United States</td>\n",
       "      <td>Give us your white, your rich, entitled and educated. To hell with everybody else #morintoon #TrumpImmigrationâ€¦ https://t.co/cnZ3idPTYl</td>\n",
       "    </tr>\n",
       "    <tr>\n",
       "      <th>7</th>\n",
       "      <td>7</td>\n",
       "      <td>'1130965347442528256</td>\n",
       "      <td>5/21/2019 22:35</td>\n",
       "      <td>ianteamspirit</td>\n",
       "      <td>United Kingdom</td>\n",
       "      <td>United Kingdom</td>\n",
       "      <td>Other</td>\n",
       "      <td>Our new #statueofliberty #ladyliberty #torchgirl #themed #prop in action tonight @concorde_centre #newyork #usaâ€¦ https://t.co/sGXGDEoYvB</td>\n",
       "    </tr>\n",
       "    <tr>\n",
       "      <th>8</th>\n",
       "      <td>8</td>\n",
       "      <td>'1130962355188379649</td>\n",
       "      <td>5/21/2019 22:23</td>\n",
       "      <td>AppleJasonOsuna</td>\n",
       "      <td>Texas</td>\n",
       "      <td>Texas</td>\n",
       "      <td>United States</td>\n",
       "      <td>Cool! #AugmentedReality #StatueofLiberty \\r\\n@AppleEDU  @StatueEllisFdn https://t.co/ZXIKM79StY</td>\n",
       "    </tr>\n",
       "    <tr>\n",
       "      <th>9</th>\n",
       "      <td>9</td>\n",
       "      <td>'1130948208648216578</td>\n",
       "      <td>5/21/2019 21:27</td>\n",
       "      <td>KMiller45046553</td>\n",
       "      <td>NaN</td>\n",
       "      <td>Unknown</td>\n",
       "      <td>Unknown</td>\n",
       "      <td>#Trump has demonized #refugees, snatched their kids and locked them up. He may as well put a #burka on the #StatueofLiberty.</td>\n",
       "    </tr>\n",
       "  </tbody>\n",
       "</table>\n",
       "</div>"
      ],
      "text/plain": [
       "   row_id              tweet_id       created_at             user  \\\n",
       "0  0       '1131047852883546118  5/22/2019 4:03   NYCRocksYou       \n",
       "1  1       '1131037675279069185  5/22/2019 3:22   MorinToon         \n",
       "2  2       '1131022433337659392  5/22/2019 2:22   DWUConservation   \n",
       "3  3       '1131007852217286662  5/22/2019 1:24   marvslawrence     \n",
       "4  4       '1131003078742876160  5/22/2019 1:05   johanson_sven     \n",
       "5  5       '1130995497907433472  5/22/2019 0:35   polsonforjax      \n",
       "6  6       '1130982190072909824  5/21/2019 23:42  MorinToon         \n",
       "7  7       '1130965347442528256  5/21/2019 22:35  ianteamspirit     \n",
       "8  8       '1130962355188379649  5/21/2019 22:23  AppleJasonOsuna   \n",
       "9  9       '1130948208648216578  5/21/2019 21:27  KMiller45046553   \n",
       "\n",
       "                      location  location_clean  location_type  \\\n",
       "0  New York                     New York        United States   \n",
       "1  Maine, USA                   Maine           United States   \n",
       "2  Government District, Dallas  Texas           United States   \n",
       "3  Makati, Philippines          Philippines     Other           \n",
       "4  Cambridge, MA                Massachusetts   United States   \n",
       "5  Jacksonville, FL             Florida         United States   \n",
       "6  Maine, USA                   Maine           United States   \n",
       "7  United Kingdom               United Kingdom  Other           \n",
       "8  Texas                        Texas           United States   \n",
       "9  NaN                          Unknown         Unknown         \n",
       "\n",
       "                                                                                                                                                     text  \n",
       "0  We will be premiering our very first NYC based vlog at Noon! We visit the brand new Statue of Liberty Museum ðŸ—½on itâ€¦ https://t.co/3sGd5CTW2Y       \n",
       "1  Give us your white, your rich, entitled and educated. To hell with everybody else #morintoon #TrumpImmigrationâ€¦ https://t.co/qsPp2etPj1               \n",
       "2  The #StatueofLiberty app is pretty much everything. Such a cool way to learn about #LadyLiberty #NYC https://t.co/PvYPcguvMg                            \n",
       "3  Meet up with the lady. ðŸ—½| Liberty Island, New York City\\r\\n.\\r\\n.\\r\\n.\\r\\n#vsco #vscocam #vscocollective #nyc #wheninnycâ€¦ https://t.co/OXwNQR836z  \n",
       "4  Just your typical Tuesday, yachting on the Hudson. #newyork #statueofliberty #yacht #sailing #baller #bostonâ€¦ https://t.co/03RYqe4MVy                 \n",
       "5  Can you see her!? #StatueOfLiberty #Freedom #BringYourHuddledMasses #WelcomeToNewYork https://t.co/pSppyzHHQC                                           \n",
       "6  Give us your white, your rich, entitled and educated. To hell with everybody else #morintoon #TrumpImmigrationâ€¦ https://t.co/cnZ3idPTYl               \n",
       "7  Our new #statueofliberty #ladyliberty #torchgirl #themed #prop in action tonight @concorde_centre #newyork #usaâ€¦ https://t.co/sGXGDEoYvB              \n",
       "8  Cool! #AugmentedReality #StatueofLiberty \\r\\n@AppleEDU  @StatueEllisFdn https://t.co/ZXIKM79StY                                                         \n",
       "9  #Trump has demonized #refugees, snatched their kids and locked them up. He may as well put a #burka on the #StatueofLiberty.                            "
      ]
     },
     "execution_count": 410,
     "metadata": {},
     "output_type": "execute_result"
    }
   ],
   "source": [
    "tweets_df.head(10)"
   ]
  },
  {
   "cell_type": "markdown",
   "metadata": {},
   "source": [
    "**Utility Functions**\n",
    "\n",
    "Below are functions for cleaning tweets (remove links and special characters) and for getting sentiment output for a tweet. <br>\n",
    "Source: https://www.geeksforgeeks.org/twitter-sentiment-analysis-using-python/"
   ]
  },
  {
   "cell_type": "code",
   "execution_count": 483,
   "metadata": {},
   "outputs": [],
   "source": [
    "#clean tweet text by removing links, special characters using simple regex statements\n",
    "def clean_tweet(tweet_text):\n",
    "        return ' '.join(re.sub(\"(@[A-Za-z0-9]+)|([^0-9A-Za-z \\t]) |(\\w+:\\/\\/\\S+)\", \" \", tweet_text).split()) \n",
    "\n",
    "#classify sentiment of passed tweet using textblob's sentiment method \n",
    "def get_tweet_sentiment(tweet_text): \n",
    "        analysis = TextBlob(tweet_text) \n",
    "        if analysis.sentiment.polarity > 0: \n",
    "            return 'positive'\n",
    "        elif analysis.sentiment.polarity == 0: \n",
    "            return 'neutral'\n",
    "        else: \n",
    "            return 'negative'\n",
    "\n",
    "def get_tweet_sentiment_polarity(tweet_text): \n",
    "         analysis = TextBlob(tweet_text)\n",
    "         return analysis.polarity\n",
    "        \n",
    "#for plotting horizontal bar plots\n",
    "def plot_location(data):\n",
    "    ax = data.plot(kind='barh', x='location', y='count', alpha=0.8, figsize=(10, 12), \n",
    "                                   color='#86bf91', zorder=2, width=0.6, legend=0)\n",
    "    #Source: https://mode.com/example-gallery/python_horizontal_bar/\n",
    "    # Despine\n",
    "    ax.spines['right'].set_visible(False)\n",
    "    ax.spines['top'].set_visible(False)\n",
    "    ax.spines['left'].set_visible(False)\n",
    "    ax.spines['bottom'].set_visible(False)\n",
    "    # Switch off ticks\n",
    "    ax.tick_params(axis=\"both\", which=\"both\", bottom=0, top=0, labelbottom=1, left=0, right=0, labelleft=1)\n",
    "\n",
    "    #clear axis labels\n",
    "    plt.xlabel('')\n",
    "    plt.ylabel('')"
   ]
  },
  {
   "cell_type": "markdown",
   "metadata": {},
   "source": [
    "### Sentiment Analysis of Cleaned Tweets\n",
    "\n",
    "<i>TextBlob</i> is the package used to perform the sentiment analysis. \n",
    "\n",
    "> TextBlob is a Python (2 and 3) library for processing textual data. It provides a consistent API for diving into common natural language processing (NLP) tasks such as part-of-speech tagging, noun phrase extraction, sentiment analysis, and more.\n",
    "\n",
    "The function call <code>TextBlob(tweet_text)</code> returns a sentiment polarity score. \n",
    "\n",
    "- Sentiment polarity score > 0 evaluates to a positive sentiment\n",
    "- Sentiment polarity score = 0 evaluates to a neutral sentiment\n",
    "- Sentiment polarity score < 0 evalutes to a negative sentiment\n",
    "\n",
    "Source: https://textblob.readthedocs.io/en/dev/_modules/textblob/blob.html"
   ]
  },
  {
   "cell_type": "code",
   "execution_count": 412,
   "metadata": {},
   "outputs": [],
   "source": [
    "tweets_df['clean_text'] = tweets_df['text'].apply(clean_tweet)\n",
    "tweets_df['sentiment'] = tweets_df['clean_text'].apply(get_tweet_sentiment)\n",
    "tweets_df['sentiment_polarity'] = tweets_df['clean_text'].apply(get_tweet_sentiment_polarity)"
   ]
  },
  {
   "cell_type": "markdown",
   "metadata": {},
   "source": [
    "**Sentiment Result**\n",
    "\n",
    "As anticipated, most of the tweets are positive or neutral. Only 6% of the tweets are negative.\n",
    "\n",
    "- Positive: 52%\n",
    "- Neutral: 42%\n",
    "- Negative: 6%\n"
   ]
  },
  {
   "cell_type": "code",
   "execution_count": 413,
   "metadata": {},
   "outputs": [],
   "source": [
    "tweets_by_type = tweets_df.groupby(['sentiment'])['tweet_id'].count()"
   ]
  },
  {
   "cell_type": "code",
   "execution_count": 414,
   "metadata": {},
   "outputs": [
    {
     "data": {
      "text/plain": [
       "sentiment\n",
       "negative    34 \n",
       "neutral     234\n",
       "positive    290\n",
       "Name: tweet_id, dtype: int64"
      ]
     },
     "execution_count": 414,
     "metadata": {},
     "output_type": "execute_result"
    }
   ],
   "source": [
    "tweets_by_type"
   ]
  },
  {
   "cell_type": "code",
   "execution_count": 415,
   "metadata": {},
   "outputs": [],
   "source": [
    "positive_count = tweets_by_type['positive']\n",
    "negative_count = tweets_by_type['negative']\n",
    "neutral_count = tweets_by_type['neutral']\n",
    "size = len(tweets_df.index)"
   ]
  },
  {
   "cell_type": "code",
   "execution_count": 416,
   "metadata": {},
   "outputs": [
    {
     "name": "stdout",
     "output_type": "stream",
     "text": [
      "Positive: 52%\n",
      "Neutral: 42%\n",
      "Negative: 6%\n"
     ]
    }
   ],
   "source": [
    "print(\"Positive: \" + \"{0:.0f}%\".format(positive_count/size * 100))\n",
    "print(\"Neutral: \" + \"{0:.0f}%\".format(neutral_count/size * 100))\n",
    "print(\"Negative: \" + \"{0:.0f}%\".format(negative_count/size * 100))"
   ]
  },
  {
   "cell_type": "code",
   "execution_count": 462,
   "metadata": {},
   "outputs": [
    {
     "data": {
      "image/png": "[encoded data removed]",
      "text/plain": [
       "<Figure size 864x648 with 1 Axes>"
      ]
     },
     "metadata": {},
     "output_type": "display_data"
    }
   ],
   "source": [
    "tweets_by_type.plot(kind='bar', alpha=0.8, rot=0, color='#86bf91')\n",
    "plt.xlabel('')\n",
    "plt.show()"
   ]
  },
  {
   "cell_type": "markdown",
   "metadata": {},
   "source": [
    "### Reviewing the Tweets\n",
    "\n",
    "Because the nature of the subject (a popular landmark that generally signifies positive things like liberty and freedom), we anticipated that most of the tweets should be positive or netural. So when the results came in, we were very interested in looking at the tweets with negative sentiments. Some of the results sound more neutral and some may contain some negative keywords but the meaning is not necessarily negative. \n",
    "\n",
    "**Negative tweets**\n",
    "\n",
    "6% of the tweets resulted in a negative sentiment.  Below you will see a random sample of 10 tweets with negative sentiments. \n",
    "\n",
    "\n",
    "- I guess my prediction was wrong #POTUS would go to open #StatueofLibertyMuseum but there’s still time this morning.\n",
    "- Disgusting full throated unfair no hearted #ImmigrationReform spewed out as well as those who cl   \n",
    "- #RainbowRailroad is doing great things Too bad #realDonaldTrump &amp the #US aren’t doing shit The\n",
    "- This climb near killed me #worthit #gellerthill #statueofliberty #budapest #huttonsgotoeurope Budapest Statue o \n",
    "- Sometimes it is hard to decide.. #richardmackphoto #colorphotography #blackandwhitephotography #ladyliberty \n",
    "-  I’m glueing those suckers in Not right now though because I’m tipsy and clumsy so \n",
    "- Give me your tired your poor your horny masses.. 📸 betancisco 👑 svs_ —————————————🥀——————— #LadyLiberty   \n",
    "\n",
    "\n",
    "**Sounds more neutral**\n",
    "\n",
    "- Here's a little video of the Statue of Liberty Bag I'm going to take pics later today #statueofliberty \n",
    "- The #StatueofLibertyMuseum is now open to public after symbolic ribbon cutting\n",
    "- #etsy shop New York Statue of Liberty Pillow Cushion Cover #housewares #pillow #black \n",
    "-  Black Tie International Statue of Liberty Museum Opening Celebration\n",
    "\n",
    "**Negative keywords**\n",
    "\n",
    "- Give me your tired your poor, Your huddled masses yearning to breathe free, The wretched refuse of your teeming sh \n",
    "- 7 Wonder of World's Waste to Wonder Delhi India 🇮🇳 #7WonderOfWorlds #WasteToWonder #DelhiIndia #Tajmahal #Vlogs  \n",
    "- Give Me Your Tired Your Poor Photo by Archie Tucker National Geographic Your Shot\n",
    "- So strange to think the #StatueofLiberty was made by the same man who created the #EiffelTower !\n"
   ]
  },
  {
   "cell_type": "code",
   "execution_count": 176,
   "metadata": {},
   "outputs": [
    {
     "data": {
      "text/plain": [
       "0    Sometimes it is hard to decide.. #richardmackphoto #colorphotography #blackandwhitephotography #ladylibertyâ€          \n",
       "1    So much for \"your tired your poor Your huddled masses yearning to breathe free The wretched refuse of your teemiâ€     \n",
       "2    â€Give me your tired give me your poor give me your huddled masses yearning to breathe freeâ€ #statueofliberty        \n",
       "3    #statueofliberty #ellisisland #ilovebigbuildings #vantagepoint is everything World Trade Center                        \n",
       "4    _frankie A1 big cities small towns the beach or the mountains there are so much photograph-able places Ifâ€            \n",
       "5    Black Tie International Statue of Liberty Museum Opening Celebrationâ€                                                 \n",
       "6    This weekend on The Travel Show goes behind the scenes of the brand new #StatueofLibertyMuseum that opeâ€              \n",
       "7    #Czechia Yawn another fake drummer that does the #StatueOfLiberty or thinks he is a DJ. #EurovisieSongfestival #TelAviv\n",
       "8    Just a little visit to #nyc to brighten a gloomy day #birthdaycruise for my big 5yr old #minilandusaâ€                 \n",
       "9    This climb near killed me #worthit #gellerthill #statueofliberty #budapest #huttonsgotoeurope Budapest Statue oâ€      \n",
       "Name: clean_text, dtype: object"
      ]
     },
     "execution_count": 176,
     "metadata": {},
     "output_type": "execute_result"
    }
   ],
   "source": [
    "negative_tweets = tweets_df.loc[tweets_df['sentiment'] == 'negative']['clean_text']\n",
    "pd.set_option('display.max_colwidth', -1)\n",
    "negative_tweets.sample(10).reset_index(drop=True)"
   ]
  },
  {
   "cell_type": "markdown",
   "metadata": {},
   "source": [
    "**Positive Tweets**\n",
    "\n",
    "Below are random selection of positive tweets."
   ]
  },
  {
   "cell_type": "code",
   "execution_count": 136,
   "metadata": {},
   "outputs": [
    {
     "data": {
      "text/plain": [
       "0    The #StatueofLiberty gets an #AR #app to celebrate its new museum #Tech #NewYork #USA #Innovation                  \n",
       "1    Getting ready for the dedication of the new museum #StatueofLibertyMuseum                                          \n",
       "2    Save 50 Off #StatueofLiberty Cruise &amp Attraction Combo Experience the best of #NewYorkCity                      \n",
       "3    Thankful I live in a country where there’s freedom #StatueofLiberty #NewYork #travel                               \n",
       "4    “A lot of the materials used in the new #StatueofLibertyMuseum building reflect the materials of both the statue an\n",
       "5    America was ALWAYS Great #StatueOfLiberty #Liberty #Freedom #America                                               \n",
       "6    Excited about the new #StatueofLiberty museum 🗽🗽                                                                   \n",
       "7    Lady Liberty stands for opportunity for hard work and for freedom from tyranny...NOT for free handouts redistribut \n",
       "8    Been checking out the new Statue of Liberty augmented reality app that _cook has been talking about and it’s pr    \n",
       "9    New York's Statue of Liberty Museum Finally Opens to the Public #NewYork #StatueofLiberty #museum                  \n",
       "Name: clean_text, dtype: object"
      ]
     },
     "execution_count": 136,
     "metadata": {},
     "output_type": "execute_result"
    }
   ],
   "source": [
    "positive_tweets = tweets_df.loc[tweets_df['sentiment'] == 'positive']['clean_text']\n",
    "positive_tweets.sample(10).reset_index(drop=True)"
   ]
  },
  {
   "cell_type": "markdown",
   "metadata": {},
   "source": [
    "**Neutral Tweets**\n",
    "\n",
    "Below are random selection of neutral tweets."
   ]
  },
  {
   "cell_type": "code",
   "execution_count": 419,
   "metadata": {},
   "outputs": [
    {
     "data": {
      "text/plain": [
       "152    Arriving to the opening ceremony of the Statue of Liberty ðŸ— Museum ðŸŽ mcarfrae #statueoflibertymuseumâ€         \n",
       "330    Trump skips #StatueofLiberty museum opening that celebrates immigrants #America                                    \n",
       "495    Staten Island Ferry Â· Â· Â· #statenislandferry #nyc #statenislandferryboatcats #newyork #newyorkcityâ€            \n",
       "520    Her majesty of freedom #thestatueofliberty #liberty #freedom #statueofliberty #hudsonriver #river #cruiseâ€        \n",
       "65     Sumsher's #SummerVacation #Sumsher reaches #NewYork #UnitedStates to see #StatueofLiberty and share his #Maths Trâ€\n",
       "409    Hillary Clinton #StatueOfLibertyMuseum ðŸ‡ºðŸ‡                                                                     \n",
       "31     #OTD in 1884 the #StatueOfLiberty was finally completed But #DYK the journey from idea to reality had taken almosâ€\n",
       "432    Does anyone else wonder what Ã‰douard RenÃ de Laboulaye &amp FrÃ©dÃ©ric Auguste Bartholdi would say if they werâ€  \n",
       "20     A walking tour of historic #Bordeaux &amp The Port of the Moon #travel #europe #france #history #statueofliberty   \n",
       "518    The #StatueOfLiberty #Museum Opens in #NewYorkCity                                                                 \n",
       "Name: clean_text, dtype: object"
      ]
     },
     "execution_count": 419,
     "metadata": {},
     "output_type": "execute_result"
    }
   ],
   "source": [
    "neutral_tweets = tweets_df.loc[tweets_df['sentiment'] == 'neutral']['clean_text']\n",
    "neutral_tweets.sample(10)"
   ]
  },
  {
   "cell_type": "markdown",
   "metadata": {},
   "source": [
    "### Tweets by Location\n",
    "\n",
    "Twitter API allows us to pull user location of the tweets. These are location typed in by the users themselves. Because the data set is small, we were able to manage to clean up the location into a standardized format. We also classified the location as **United States** or **Other**.\n",
    "\n",
    "\n",
    "- United States: 66%\n",
    "- Other Countries: 13%\n",
    "- Unknown: 21%"
   ]
  },
  {
   "cell_type": "code",
   "execution_count": 425,
   "metadata": {},
   "outputs": [],
   "source": [
    "tweets_by_location = tweets_df.groupby(['location_type'])['tweet_id'].count()"
   ]
  },
  {
   "cell_type": "code",
   "execution_count": 426,
   "metadata": {},
   "outputs": [
    {
     "data": {
      "text/plain": [
       "location_type\n",
       "Other            73 \n",
       "Unknown          118\n",
       "United States    367\n",
       "Name: tweet_id, dtype: int64"
      ]
     },
     "execution_count": 426,
     "metadata": {},
     "output_type": "execute_result"
    }
   ],
   "source": [
    "tweets_by_location.sort_values()"
   ]
  },
  {
   "cell_type": "code",
   "execution_count": 422,
   "metadata": {},
   "outputs": [
    {
     "name": "stdout",
     "output_type": "stream",
     "text": [
      "United States: 66%\n",
      "Other Countries: 13%\n",
      "Unknown: 21%\n"
     ]
    }
   ],
   "source": [
    "other_count = tweets_by_location['Other']\n",
    "unknown_count = tweets_by_location['Unknown']\n",
    "unitedStates_count = tweets_by_location['United States']\n",
    "\n",
    "print(\"United States: \" + \"{0:.0f}%\".format(unitedStates_count/size * 100))\n",
    "print(\"Other Countries: \" + \"{0:.0f}%\".format(other_count/size * 100))\n",
    "print(\"Unknown: \" + \"{0:.0f}%\".format(unknown_count/size * 100))"
   ]
  },
  {
   "cell_type": "markdown",
   "metadata": {},
   "source": [
    "**Tweets by United States and Other Countries**\n",
    "\n",
    "Majority of the tweets are from United States. "
   ]
  },
  {
   "cell_type": "code",
   "execution_count": 461,
   "metadata": {},
   "outputs": [
    {
     "data": {
      "image/png": "[encoded data removed]",
      "text/plain": [
       "<Figure size 864x648 with 1 Axes>"
      ]
     },
     "metadata": {},
     "output_type": "display_data"
    }
   ],
   "source": [
    "tweets_by_location.plot(kind='bar', alpha=0.8, rot=0, color='#86bf91')\n",
    "plt.xlabel('')\n",
    "plt.show()"
   ]
  },
  {
   "cell_type": "markdown",
   "metadata": {},
   "source": [
    "The code below creates two data frames. One for tweets with *United States* as their user location, and another for tweets with user location from other countries. Unkown locations are excluded."
   ]
  },
  {
   "cell_type": "code",
   "execution_count": 458,
   "metadata": {},
   "outputs": [],
   "source": [
    "tweets_USA = tweets_df[tweets_df['location_type'] == 'United States']\n",
    "tweets_Other = tweets_df[tweets_df['location_type'] == 'Other']\n",
    "\n",
    "tweets_USA = tweets_USA.groupby(['location_clean'])['tweet_id'].count().to_frame()\n",
    "tweets_USA = tweets_USA.reset_index(drop=False)\n",
    "tweets_USA.columns = ['location', 'count']\n",
    "tweets_USA = tweets_USA[tweets_USA['location'] != 'Unknown']\n",
    "tweets_USA = tweets_USA.sort_values(by=\"count\", ascending=True)\n",
    "tweets_USA = tweets_USA.reset_index(drop=True)\n",
    "\n",
    "tweets_Other = tweets_Other.groupby(['location_clean'])['tweet_id'].count().to_frame()\n",
    "tweets_Other = tweets_Other.reset_index(drop=False)\n",
    "tweets_Other.columns = ['location', 'count']\n",
    "tweets_Other = tweets_Other[tweets_Other['location'] != 'Unknown']\n",
    "tweets_Other = tweets_Other.sort_values(by=\"count\", ascending=True)\n",
    "tweets_Other = tweets_Other.reset_index(drop=True)"
   ]
  },
  {
   "cell_type": "markdown",
   "metadata": {},
   "source": [
    "**Tweets from United States**\n",
    "\n",
    "It's not a suprise that most of the tweets from the United States are from **New York** (168 tweets). We somewhat expected for New Jersey to be on the top three; however this is not the case. **New Jersey** is number five in the rank with 17 tweets. **Arizona** is a far second (41 tweets). "
   ]
  },
  {
   "cell_type": "code",
   "execution_count": 488,
   "metadata": {
    "scrolled": true
   },
   "outputs": [
    {
     "data": {
      "image/png": "[encoded data removed]",
      "text/plain": [
       "<Figure size 720x864 with 1 Axes>"
      ]
     },
     "metadata": {},
     "output_type": "display_data"
    }
   ],
   "source": [
    "plot_location(tweets_USA)"
   ]
  },
  {
   "cell_type": "markdown",
   "metadata": {},
   "source": [
    "**Tweets from Other Countries**\n",
    "\n",
    "The number one spot goes to **United Kingdom** with 21 tweets. **India** takes the second spot with 7 tweets. "
   ]
  },
  {
   "cell_type": "code",
   "execution_count": 487,
   "metadata": {
    "scrolled": true
   },
   "outputs": [
    {
     "data": {
      "image/png": "[encoded data removed]",
      "text/plain": [
       "<Figure size 720x864 with 1 Axes>"
      ]
     },
     "metadata": {},
     "output_type": "display_data"
    }
   ],
   "source": [
    "plot_location(tweets_Other)"
   ]
  },
  {
   "cell_type": "markdown",
   "metadata": {},
   "source": [
    "**Tweet Sentiment by Location**\n",
    "\n",
    "Below is a plot of of each sentiment broken down by United States and Other Countries. <br> \n",
    "As expected, majority of the tweets in each sentiment category are from United States. "
   ]
  },
  {
   "cell_type": "code",
   "execution_count": 245,
   "metadata": {},
   "outputs": [
    {
     "data": {
      "text/plain": [
       "sentiment  location_type\n",
       "negative   Other            7  \n",
       "           United States    20 \n",
       "           Unknown          7  \n",
       "neutral    Other            22 \n",
       "           United States    162\n",
       "           Unknown          50 \n",
       "positive   Other            44 \n",
       "           United States    185\n",
       "           Unknown          61 \n",
       "Name: tweet_id, dtype: int64"
      ]
     },
     "execution_count": 245,
     "metadata": {},
     "output_type": "execute_result"
    }
   ],
   "source": [
    "tweets_by_location_sentiment = tweets_df.groupby(['sentiment', 'location_type'])['tweet_id'].count()\n",
    "tweets_by_location_sentiment"
   ]
  },
  {
   "cell_type": "code",
   "execution_count": 463,
   "metadata": {},
   "outputs": [
    {
     "data": {
      "image/png": "[encoded data removed]",
      "text/plain": [
       "<Figure size 864x648 with 1 Axes>"
      ]
     },
     "metadata": {},
     "output_type": "display_data"
    }
   ],
   "source": [
    "#https://stackoverflow.com/questions/47796264/function-to-create-grouped-bar-plot\n",
    "df = pd.DataFrame([['Positive','United States',185],['Positive','Other', 44],['Positive','Unknown',61],\n",
    "                   ['Neutral','United States',162],['Neutral','Other',22],['Neutral','Unknown',50],\n",
    "                   ['Negative','United States',20],['Negative','Other',7],['Negative','Unknown',7]\n",
    "                  ],\n",
    "                  columns=['group','column','val'])\n",
    "ax = df.pivot(\"group\", \"column\", \"val\").plot(kind='bar', title=\"Sentiment by Location\", rot=0, alpha=0.7)\n",
    "plt.legend()\n",
    "plt.xlabel('')\n",
    "plt.show()"
   ]
  },
  {
   "cell_type": "markdown",
   "metadata": {},
   "source": [
    "**Location of Tweets with Negative Sentiment**\n",
    "\n",
    "Below is a closer look at user locations of tweets with negative sentiments. It's not surprising that **New York** takes  the lead on this with 6 tweets.\n",
    "\n",
    "States in the United States with at least 1 negative tweet are **New York, Illinois, Florida, California, Ohio, New Jersey,  Massachusetts, Maryland, Colorado, and Arizona**. \n",
    "\n",
    "Other countries with at least 1 negative tweet are **China, Sweden, South Africa, Netherlands, Italy, and Canada**."
   ]
  },
  {
   "cell_type": "code",
   "execution_count": 481,
   "metadata": {},
   "outputs": [],
   "source": [
    "tweets_negative = tweets_df[tweets_df['sentiment'] == 'negative']\n",
    "tweets_negative = tweets_negative.groupby(['location_clean'])['tweet_id'].count().to_frame()\n",
    "tweets_negative = tweets_negative.reset_index(drop=False)\n",
    "tweets_negative.columns = ['location', 'count']\n",
    "tweets_negative = tweets_negative[tweets_negative['location'] != 'Unknown']\n",
    "tweets_negative = tweets_negative.sort_values(by=\"count\", ascending=True)\n",
    "tweets_negative = tweets_negative.reset_index(drop=True)"
   ]
  },
  {
   "cell_type": "code",
   "execution_count": 484,
   "metadata": {},
   "outputs": [
    {
     "data": {
      "image/png": "[encoded data removed]",
      "text/plain": [
       "<Figure size 720x864 with 1 Axes>"
      ]
     },
     "metadata": {},
     "output_type": "display_data"
    }
   ],
   "source": [
    "plot_location(tweets_negative)"
   ]
  },
  {
   "cell_type": "markdown",
   "metadata": {},
   "source": [
    "---\n",
    "\n",
    "Data 620 - Final Project<br>Team no. 6 (Yohannes Deboch, Sherranette Tinapunan)<br> May 22, 2019\n",
    "\n"
   ]
  }
 ],
 "metadata": {
  "kernelspec": {
   "display_name": "Python 3",
   "language": "python",
   "name": "python3"
  },
  "language_info": {
   "codemirror_mode": {
    "name": "ipython",
    "version": 3
   },
   "file_extension": ".py",
   "mimetype": "text/x-python",
   "name": "python",
   "nbconvert_exporter": "python",
   "pygments_lexer": "ipython3",
   "version": "3.6.5"
  }
 },
 "nbformat": 4,
 "nbformat_minor": 2
}
